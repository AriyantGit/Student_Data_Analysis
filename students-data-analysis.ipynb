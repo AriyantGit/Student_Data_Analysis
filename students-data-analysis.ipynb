{
 "cells": [
  {
   "cell_type": "code",
   "execution_count": 1,
   "id": "066816d9",
   "metadata": {
    "_cell_guid": "b1076dfc-b9ad-4769-8c92-a6c4dae69d19",
    "_uuid": "8f2839f25d086af736a60e9eeb907d3b93b6e0e5",
    "execution": {
     "iopub.execute_input": "2023-04-25T15:36:04.583399Z",
     "iopub.status.busy": "2023-04-25T15:36:04.583001Z",
     "iopub.status.idle": "2023-04-25T15:36:04.603150Z",
     "shell.execute_reply": "2023-04-25T15:36:04.601361Z"
    },
    "papermill": {
     "duration": 0.03029,
     "end_time": "2023-04-25T15:36:04.605719",
     "exception": false,
     "start_time": "2023-04-25T15:36:04.575429",
     "status": "completed"
    },
    "tags": []
   },
   "outputs": [
    {
     "name": "stdout",
     "output_type": "stream",
     "text": [
      "/kaggle/input/students-performance-in-exams/StudentsPerformance.csv\n"
     ]
    }
   ],
   "source": [
    "# This Python 3 environment comes with many helpful analytics libraries installed\n",
    "# It is defined by the kaggle/python Docker image: https://github.com/kaggle/docker-python\n",
    "# For example, here's several helpful packages to load\n",
    "\n",
    "import numpy as np # linear algebra\n",
    "import pandas as pd # data processing, CSV file I/O (e.g. pd.read_csv)\n",
    "\n",
    "# Input data files are available in the read-only \"../input/\" directory\n",
    "# For example, running this (by clicking run or pressing Shift+Enter) will list all files under the input directory\n",
    "\n",
    "import os\n",
    "for dirname, _, filenames in os.walk('/kaggle/input'):\n",
    "    for filename in filenames:\n",
    "        print(os.path.join(dirname, filename))\n",
    "\n",
    "# You can write up to 20GB to the current directory (/kaggle/working/) that gets preserved as output when you create a version using \"Save & Run All\" \n",
    "# You can also write temporary files to /kaggle/temp/, but they won't be saved outside of the current session"
   ]
  },
  {
   "cell_type": "code",
   "execution_count": 2,
   "id": "9d7445e6",
   "metadata": {
    "execution": {
     "iopub.execute_input": "2023-04-25T15:36:04.618234Z",
     "iopub.status.busy": "2023-04-25T15:36:04.617134Z",
     "iopub.status.idle": "2023-04-25T15:36:05.891345Z",
     "shell.execute_reply": "2023-04-25T15:36:05.890112Z"
    },
    "papermill": {
     "duration": 1.284056,
     "end_time": "2023-04-25T15:36:05.894650",
     "exception": false,
     "start_time": "2023-04-25T15:36:04.610594",
     "status": "completed"
    },
    "tags": []
   },
   "outputs": [],
   "source": [
    "import pandas as pd\n",
    "import numpy as np\n",
    "import matplotlib.pyplot as plt\n",
    "import seaborn as sns\n",
    "import warnings \n",
    "warnings.filterwarnings(\"ignore\")"
   ]
  },
  {
   "cell_type": "code",
   "execution_count": 3,
   "id": "c1463170",
   "metadata": {
    "execution": {
     "iopub.execute_input": "2023-04-25T15:36:05.906126Z",
     "iopub.status.busy": "2023-04-25T15:36:05.905683Z",
     "iopub.status.idle": "2023-04-25T15:36:05.926196Z",
     "shell.execute_reply": "2023-04-25T15:36:05.924968Z"
    },
    "papermill": {
     "duration": 0.029594,
     "end_time": "2023-04-25T15:36:05.929152",
     "exception": false,
     "start_time": "2023-04-25T15:36:05.899558",
     "status": "completed"
    },
    "tags": []
   },
   "outputs": [],
   "source": [
    "df=pd.read_csv(\"/kaggle/input/students-performance-in-exams/StudentsPerformance.csv\")"
   ]
  },
  {
   "cell_type": "code",
   "execution_count": 4,
   "id": "274326de",
   "metadata": {
    "execution": {
     "iopub.execute_input": "2023-04-25T15:36:05.940350Z",
     "iopub.status.busy": "2023-04-25T15:36:05.939884Z",
     "iopub.status.idle": "2023-04-25T15:36:05.971565Z",
     "shell.execute_reply": "2023-04-25T15:36:05.970222Z"
    },
    "papermill": {
     "duration": 0.04069,
     "end_time": "2023-04-25T15:36:05.974407",
     "exception": false,
     "start_time": "2023-04-25T15:36:05.933717",
     "status": "completed"
    },
    "tags": []
   },
   "outputs": [
    {
     "data": {
      "text/html": [
       "<div>\n",
       "<style scoped>\n",
       "    .dataframe tbody tr th:only-of-type {\n",
       "        vertical-align: middle;\n",
       "    }\n",
       "\n",
       "    .dataframe tbody tr th {\n",
       "        vertical-align: top;\n",
       "    }\n",
       "\n",
       "    .dataframe thead th {\n",
       "        text-align: right;\n",
       "    }\n",
       "</style>\n",
       "<table border=\"1\" class=\"dataframe\">\n",
       "  <thead>\n",
       "    <tr style=\"text-align: right;\">\n",
       "      <th></th>\n",
       "      <th>gender</th>\n",
       "      <th>race/ethnicity</th>\n",
       "      <th>parental level of education</th>\n",
       "      <th>lunch</th>\n",
       "      <th>test preparation course</th>\n",
       "      <th>math score</th>\n",
       "      <th>reading score</th>\n",
       "      <th>writing score</th>\n",
       "    </tr>\n",
       "  </thead>\n",
       "  <tbody>\n",
       "    <tr>\n",
       "      <th>0</th>\n",
       "      <td>female</td>\n",
       "      <td>group B</td>\n",
       "      <td>bachelor's degree</td>\n",
       "      <td>standard</td>\n",
       "      <td>none</td>\n",
       "      <td>72</td>\n",
       "      <td>72</td>\n",
       "      <td>74</td>\n",
       "    </tr>\n",
       "    <tr>\n",
       "      <th>1</th>\n",
       "      <td>female</td>\n",
       "      <td>group C</td>\n",
       "      <td>some college</td>\n",
       "      <td>standard</td>\n",
       "      <td>completed</td>\n",
       "      <td>69</td>\n",
       "      <td>90</td>\n",
       "      <td>88</td>\n",
       "    </tr>\n",
       "    <tr>\n",
       "      <th>2</th>\n",
       "      <td>female</td>\n",
       "      <td>group B</td>\n",
       "      <td>master's degree</td>\n",
       "      <td>standard</td>\n",
       "      <td>none</td>\n",
       "      <td>90</td>\n",
       "      <td>95</td>\n",
       "      <td>93</td>\n",
       "    </tr>\n",
       "    <tr>\n",
       "      <th>3</th>\n",
       "      <td>male</td>\n",
       "      <td>group A</td>\n",
       "      <td>associate's degree</td>\n",
       "      <td>free/reduced</td>\n",
       "      <td>none</td>\n",
       "      <td>47</td>\n",
       "      <td>57</td>\n",
       "      <td>44</td>\n",
       "    </tr>\n",
       "    <tr>\n",
       "      <th>4</th>\n",
       "      <td>male</td>\n",
       "      <td>group C</td>\n",
       "      <td>some college</td>\n",
       "      <td>standard</td>\n",
       "      <td>none</td>\n",
       "      <td>76</td>\n",
       "      <td>78</td>\n",
       "      <td>75</td>\n",
       "    </tr>\n",
       "  </tbody>\n",
       "</table>\n",
       "</div>"
      ],
      "text/plain": [
       "   gender race/ethnicity parental level of education         lunch  \\\n",
       "0  female        group B           bachelor's degree      standard   \n",
       "1  female        group C                some college      standard   \n",
       "2  female        group B             master's degree      standard   \n",
       "3    male        group A          associate's degree  free/reduced   \n",
       "4    male        group C                some college      standard   \n",
       "\n",
       "  test preparation course  math score  reading score  writing score  \n",
       "0                    none          72             72             74  \n",
       "1               completed          69             90             88  \n",
       "2                    none          90             95             93  \n",
       "3                    none          47             57             44  \n",
       "4                    none          76             78             75  "
      ]
     },
     "execution_count": 4,
     "metadata": {},
     "output_type": "execute_result"
    }
   ],
   "source": [
    "df.head(5)"
   ]
  },
  {
   "cell_type": "code",
   "execution_count": 5,
   "id": "e81e2931",
   "metadata": {
    "execution": {
     "iopub.execute_input": "2023-04-25T15:36:05.987053Z",
     "iopub.status.busy": "2023-04-25T15:36:05.985735Z",
     "iopub.status.idle": "2023-04-25T15:36:05.993116Z",
     "shell.execute_reply": "2023-04-25T15:36:05.991911Z"
    },
    "papermill": {
     "duration": 0.016235,
     "end_time": "2023-04-25T15:36:05.995728",
     "exception": false,
     "start_time": "2023-04-25T15:36:05.979493",
     "status": "completed"
    },
    "tags": []
   },
   "outputs": [
    {
     "data": {
      "text/plain": [
       "(1000, 8)"
      ]
     },
     "execution_count": 5,
     "metadata": {},
     "output_type": "execute_result"
    }
   ],
   "source": [
    "df.shape"
   ]
  },
  {
   "cell_type": "markdown",
   "id": "478d9567",
   "metadata": {
    "papermill": {
     "duration": 0.004689,
     "end_time": "2023-04-25T15:36:06.005738",
     "exception": false,
     "start_time": "2023-04-25T15:36:06.001049",
     "status": "completed"
    },
    "tags": []
   },
   "source": [
    "**Check Missing Value**"
   ]
  },
  {
   "cell_type": "code",
   "execution_count": 6,
   "id": "37c1bcf1",
   "metadata": {
    "execution": {
     "iopub.execute_input": "2023-04-25T15:36:06.018576Z",
     "iopub.status.busy": "2023-04-25T15:36:06.017689Z",
     "iopub.status.idle": "2023-04-25T15:36:06.027814Z",
     "shell.execute_reply": "2023-04-25T15:36:06.026568Z"
    },
    "papermill": {
     "duration": 0.019509,
     "end_time": "2023-04-25T15:36:06.030609",
     "exception": false,
     "start_time": "2023-04-25T15:36:06.011100",
     "status": "completed"
    },
    "tags": []
   },
   "outputs": [
    {
     "data": {
      "text/plain": [
       "gender                         0\n",
       "race/ethnicity                 0\n",
       "parental level of education    0\n",
       "lunch                          0\n",
       "test preparation course        0\n",
       "math score                     0\n",
       "reading score                  0\n",
       "writing score                  0\n",
       "dtype: int64"
      ]
     },
     "execution_count": 6,
     "metadata": {},
     "output_type": "execute_result"
    }
   ],
   "source": [
    "df.isnull().sum()"
   ]
  },
  {
   "cell_type": "markdown",
   "id": "5a0e4a91",
   "metadata": {
    "papermill": {
     "duration": 0.004717,
     "end_time": "2023-04-25T15:36:06.040356",
     "exception": false,
     "start_time": "2023-04-25T15:36:06.035639",
     "status": "completed"
    },
    "tags": []
   },
   "source": [
    "****"
   ]
  },
  {
   "cell_type": "markdown",
   "id": "080a614f",
   "metadata": {
    "papermill": {
     "duration": 0.005019,
     "end_time": "2023-04-25T15:36:06.050454",
     "exception": false,
     "start_time": "2023-04-25T15:36:06.045435",
     "status": "completed"
    },
    "tags": []
   },
   "source": [
    "**Check Duplicates**"
   ]
  },
  {
   "cell_type": "code",
   "execution_count": 7,
   "id": "9492bba8",
   "metadata": {
    "execution": {
     "iopub.execute_input": "2023-04-25T15:36:06.062538Z",
     "iopub.status.busy": "2023-04-25T15:36:06.062087Z",
     "iopub.status.idle": "2023-04-25T15:36:06.082578Z",
     "shell.execute_reply": "2023-04-25T15:36:06.081359Z"
    },
    "papermill": {
     "duration": 0.030034,
     "end_time": "2023-04-25T15:36:06.085514",
     "exception": false,
     "start_time": "2023-04-25T15:36:06.055480",
     "status": "completed"
    },
    "tags": []
   },
   "outputs": [
    {
     "data": {
      "text/plain": [
       "0"
      ]
     },
     "execution_count": 7,
     "metadata": {},
     "output_type": "execute_result"
    }
   ],
   "source": [
    "df.duplicated().sum()"
   ]
  },
  {
   "cell_type": "markdown",
   "id": "23971a94",
   "metadata": {
    "papermill": {
     "duration": 0.004715,
     "end_time": "2023-04-25T15:36:06.095390",
     "exception": false,
     "start_time": "2023-04-25T15:36:06.090675",
     "status": "completed"
    },
    "tags": []
   },
   "source": [
    "**Check the Data Types**"
   ]
  },
  {
   "cell_type": "code",
   "execution_count": 8,
   "id": "4e8d8070",
   "metadata": {
    "execution": {
     "iopub.execute_input": "2023-04-25T15:36:06.107594Z",
     "iopub.status.busy": "2023-04-25T15:36:06.107147Z",
     "iopub.status.idle": "2023-04-25T15:36:06.129483Z",
     "shell.execute_reply": "2023-04-25T15:36:06.127936Z"
    },
    "papermill": {
     "duration": 0.032142,
     "end_time": "2023-04-25T15:36:06.132573",
     "exception": false,
     "start_time": "2023-04-25T15:36:06.100431",
     "status": "completed"
    },
    "tags": []
   },
   "outputs": [
    {
     "name": "stdout",
     "output_type": "stream",
     "text": [
      "<class 'pandas.core.frame.DataFrame'>\n",
      "RangeIndex: 1000 entries, 0 to 999\n",
      "Data columns (total 8 columns):\n",
      " #   Column                       Non-Null Count  Dtype \n",
      "---  ------                       --------------  ----- \n",
      " 0   gender                       1000 non-null   object\n",
      " 1   race/ethnicity               1000 non-null   object\n",
      " 2   parental level of education  1000 non-null   object\n",
      " 3   lunch                        1000 non-null   object\n",
      " 4   test preparation course      1000 non-null   object\n",
      " 5   math score                   1000 non-null   int64 \n",
      " 6   reading score                1000 non-null   int64 \n",
      " 7   writing score                1000 non-null   int64 \n",
      "dtypes: int64(3), object(5)\n",
      "memory usage: 62.6+ KB\n"
     ]
    }
   ],
   "source": [
    "df.info()"
   ]
  },
  {
   "cell_type": "markdown",
   "id": "68447694",
   "metadata": {
    "papermill": {
     "duration": 0.004951,
     "end_time": "2023-04-25T15:36:06.143399",
     "exception": false,
     "start_time": "2023-04-25T15:36:06.138448",
     "status": "completed"
    },
    "tags": []
   },
   "source": [
    "**Check the Number of Unique Values in Each Column**"
   ]
  },
  {
   "cell_type": "code",
   "execution_count": 9,
   "id": "1aa762d4",
   "metadata": {
    "execution": {
     "iopub.execute_input": "2023-04-25T15:36:06.155675Z",
     "iopub.status.busy": "2023-04-25T15:36:06.155267Z",
     "iopub.status.idle": "2023-04-25T15:36:06.168428Z",
     "shell.execute_reply": "2023-04-25T15:36:06.167136Z"
    },
    "papermill": {
     "duration": 0.022761,
     "end_time": "2023-04-25T15:36:06.171382",
     "exception": false,
     "start_time": "2023-04-25T15:36:06.148621",
     "status": "completed"
    },
    "tags": []
   },
   "outputs": [
    {
     "data": {
      "text/plain": [
       "gender                          2\n",
       "race/ethnicity                  5\n",
       "parental level of education     6\n",
       "lunch                           2\n",
       "test preparation course         2\n",
       "math score                     81\n",
       "reading score                  72\n",
       "writing score                  77\n",
       "dtype: int64"
      ]
     },
     "execution_count": 9,
     "metadata": {},
     "output_type": "execute_result"
    }
   ],
   "source": [
    "df.nunique()"
   ]
  },
  {
   "cell_type": "markdown",
   "id": "715ce1cf",
   "metadata": {
    "papermill": {
     "duration": 0.005114,
     "end_time": "2023-04-25T15:36:06.182392",
     "exception": false,
     "start_time": "2023-04-25T15:36:06.177278",
     "status": "completed"
    },
    "tags": []
   },
   "source": [
    "**Check Statistics of the Data Set**\n",
    "To examine the dataset’s statistics and determine the data’s statistics."
   ]
  },
  {
   "cell_type": "code",
   "execution_count": 10,
   "id": "2a54b6d9",
   "metadata": {
    "execution": {
     "iopub.execute_input": "2023-04-25T15:36:06.195798Z",
     "iopub.status.busy": "2023-04-25T15:36:06.194698Z",
     "iopub.status.idle": "2023-04-25T15:36:06.204443Z",
     "shell.execute_reply": "2023-04-25T15:36:06.203015Z"
    },
    "papermill": {
     "duration": 0.019471,
     "end_time": "2023-04-25T15:36:06.207178",
     "exception": false,
     "start_time": "2023-04-25T15:36:06.187707",
     "status": "completed"
    },
    "tags": []
   },
   "outputs": [
    {
     "name": "stdout",
     "output_type": "stream",
     "text": [
      "Categories in gender variable:   ['female' 'male']\n",
      "Categories in race/ethnicity variable:   ['group B' 'group C' 'group A' 'group D' 'group E']\n",
      "Categories in parental level of education variable:   [\"bachelor's degree\" 'some college' \"master's degree\" \"associate's degree\"\n",
      " 'high school' 'some high school']\n",
      "Categories in lunch variable:   ['standard' 'free/reduced']\n",
      "Categories in test preparation course variable:   ['none' 'completed']\n"
     ]
    }
   ],
   "source": [
    "col=df.columns\n",
    "for i in range(0,len(col)-3):\n",
    "    print(f\"Categories in {col[i]} variable:  \",end=\" \")\n",
    "    print(df[str(col[i])].unique())"
   ]
  },
  {
   "cell_type": "code",
   "execution_count": null,
   "id": "e2d9590a",
   "metadata": {
    "papermill": {
     "duration": 0.005237,
     "end_time": "2023-04-25T15:36:06.217954",
     "exception": false,
     "start_time": "2023-04-25T15:36:06.212717",
     "status": "completed"
    },
    "tags": []
   },
   "outputs": [],
   "source": []
  }
 ],
 "metadata": {
  "kernelspec": {
   "display_name": "Python 3",
   "language": "python",
   "name": "python3"
  },
  "language_info": {
   "codemirror_mode": {
    "name": "ipython",
    "version": 3
   },
   "file_extension": ".py",
   "mimetype": "text/x-python",
   "name": "python",
   "nbconvert_exporter": "python",
   "pygments_lexer": "ipython3",
   "version": "3.7.12"
  },
  "papermill": {
   "default_parameters": {},
   "duration": 13.839326,
   "end_time": "2023-04-25T15:36:07.048410",
   "environment_variables": {},
   "exception": null,
   "input_path": "__notebook__.ipynb",
   "output_path": "__notebook__.ipynb",
   "parameters": {},
   "start_time": "2023-04-25T15:35:53.209084",
   "version": "2.4.0"
  }
 },
 "nbformat": 4,
 "nbformat_minor": 5
}
