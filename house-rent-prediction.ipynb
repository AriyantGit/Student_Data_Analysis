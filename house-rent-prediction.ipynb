{
 "cells": [
  {
   "cell_type": "code",
   "execution_count": 1,
   "id": "68ae65e9",
   "metadata": {
    "_cell_guid": "b1076dfc-b9ad-4769-8c92-a6c4dae69d19",
    "_uuid": "8f2839f25d086af736a60e9eeb907d3b93b6e0e5",
    "execution": {
     "iopub.execute_input": "2023-05-02T16:13:19.757642Z",
     "iopub.status.busy": "2023-05-02T16:13:19.757150Z",
     "iopub.status.idle": "2023-05-02T16:13:19.778164Z",
     "shell.execute_reply": "2023-05-02T16:13:19.776973Z"
    },
    "papermill": {
     "duration": 0.032153,
     "end_time": "2023-05-02T16:13:19.780194",
     "exception": false,
     "start_time": "2023-05-02T16:13:19.748041",
     "status": "completed"
    },
    "tags": []
   },
   "outputs": [
    {
     "name": "stdout",
     "output_type": "stream",
     "text": [
      "/kaggle/input/superstore-dataset-final/Sample - Superstore.csv\n"
     ]
    }
   ],
   "source": [
    "# This Python 3 environment comes with many helpful analytics libraries installed\n",
    "# It is defined by the kaggle/python Docker image: https://github.com/kaggle/docker-python\n",
    "# For example, here's several helpful packages to load\n",
    "\n",
    "import numpy as np # linear algebra\n",
    "import pandas as pd # data processing, CSV file I/O (e.g. pd.read_csv)\n",
    "\n",
    "# Input data files are available in the read-only \"../input/\" directory\n",
    "# For example, running this (by clicking run or pressing Shift+Enter) will list all files under the input directory\n",
    "\n",
    "import os\n",
    "for dirname, _, filenames in os.walk('/kaggle/input'):\n",
    "    for filename in filenames:\n",
    "        print(os.path.join(dirname, filename))\n",
    "\n",
    "# You can write up to 20GB to the current directory (/kaggle/working/) that gets preserved as output when you create a version using \"Save & Run All\" \n",
    "# You can also write temporary files to /kaggle/temp/, but they won't be saved outside of the current session"
   ]
  },
  {
   "cell_type": "code",
   "execution_count": 2,
   "id": "3127a57b",
   "metadata": {
    "execution": {
     "iopub.execute_input": "2023-05-02T16:13:19.795813Z",
     "iopub.status.busy": "2023-05-02T16:13:19.795139Z",
     "iopub.status.idle": "2023-05-02T16:13:20.910752Z",
     "shell.execute_reply": "2023-05-02T16:13:20.909652Z"
    },
    "papermill": {
     "duration": 1.12601,
     "end_time": "2023-05-02T16:13:20.913218",
     "exception": false,
     "start_time": "2023-05-02T16:13:19.787208",
     "status": "completed"
    },
    "tags": []
   },
   "outputs": [
    {
     "name": "stderr",
     "output_type": "stream",
     "text": [
      "/opt/conda/lib/python3.10/site-packages/scipy/__init__.py:146: UserWarning: A NumPy version >=1.16.5 and <1.23.0 is required for this version of SciPy (detected version 1.23.5\n",
      "  warnings.warn(f\"A NumPy version >={np_minversion} and <{np_maxversion}\"\n"
     ]
    }
   ],
   "source": [
    "import pandas as pd\n",
    "import numpy as np\n",
    "import seaborn as sns\n",
    "import matplotlib.pyplot as plt\n",
    "from scipy import stats\n",
    "from scipy.stats import norm\n",
    "import warnings\n",
    "warnings.filterwarnings(\"ignore\")"
   ]
  },
  {
   "cell_type": "code",
   "execution_count": 3,
   "id": "e141dea0",
   "metadata": {
    "execution": {
     "iopub.execute_input": "2023-05-02T16:13:20.928191Z",
     "iopub.status.busy": "2023-05-02T16:13:20.927333Z",
     "iopub.status.idle": "2023-05-02T16:13:21.094038Z",
     "shell.execute_reply": "2023-05-02T16:13:21.093016Z"
    },
    "papermill": {
     "duration": 0.176338,
     "end_time": "2023-05-02T16:13:21.096161",
     "exception": false,
     "start_time": "2023-05-02T16:13:20.919823",
     "status": "completed"
    },
    "tags": []
   },
   "outputs": [
    {
     "data": {
      "text/html": [
       "<div>\n",
       "<style scoped>\n",
       "    .dataframe tbody tr th:only-of-type {\n",
       "        vertical-align: middle;\n",
       "    }\n",
       "\n",
       "    .dataframe tbody tr th {\n",
       "        vertical-align: top;\n",
       "    }\n",
       "\n",
       "    .dataframe thead th {\n",
       "        text-align: right;\n",
       "    }\n",
       "</style>\n",
       "<table border=\"1\" class=\"dataframe\">\n",
       "  <thead>\n",
       "    <tr style=\"text-align: right;\">\n",
       "      <th></th>\n",
       "      <th>Row ID</th>\n",
       "      <th>Order ID</th>\n",
       "      <th>Order Date</th>\n",
       "      <th>Ship Date</th>\n",
       "      <th>Ship Mode</th>\n",
       "      <th>Customer ID</th>\n",
       "      <th>Customer Name</th>\n",
       "      <th>Segment</th>\n",
       "      <th>Country</th>\n",
       "      <th>City</th>\n",
       "      <th>...</th>\n",
       "      <th>Postal Code</th>\n",
       "      <th>Region</th>\n",
       "      <th>Product ID</th>\n",
       "      <th>Category</th>\n",
       "      <th>Sub-Category</th>\n",
       "      <th>Product Name</th>\n",
       "      <th>Sales</th>\n",
       "      <th>Quantity</th>\n",
       "      <th>Discount</th>\n",
       "      <th>Profit</th>\n",
       "    </tr>\n",
       "  </thead>\n",
       "  <tbody>\n",
       "    <tr>\n",
       "      <th>0</th>\n",
       "      <td>1</td>\n",
       "      <td>CA-2016-152156</td>\n",
       "      <td>11/8/2016</td>\n",
       "      <td>11/11/2016</td>\n",
       "      <td>Second Class</td>\n",
       "      <td>CG-12520</td>\n",
       "      <td>Claire Gute</td>\n",
       "      <td>Consumer</td>\n",
       "      <td>United States</td>\n",
       "      <td>Henderson</td>\n",
       "      <td>...</td>\n",
       "      <td>42420</td>\n",
       "      <td>South</td>\n",
       "      <td>FUR-BO-10001798</td>\n",
       "      <td>Furniture</td>\n",
       "      <td>Bookcases</td>\n",
       "      <td>Bush Somerset Collection Bookcase</td>\n",
       "      <td>261.9600</td>\n",
       "      <td>2</td>\n",
       "      <td>0.00</td>\n",
       "      <td>41.9136</td>\n",
       "    </tr>\n",
       "    <tr>\n",
       "      <th>1</th>\n",
       "      <td>2</td>\n",
       "      <td>CA-2016-152156</td>\n",
       "      <td>11/8/2016</td>\n",
       "      <td>11/11/2016</td>\n",
       "      <td>Second Class</td>\n",
       "      <td>CG-12520</td>\n",
       "      <td>Claire Gute</td>\n",
       "      <td>Consumer</td>\n",
       "      <td>United States</td>\n",
       "      <td>Henderson</td>\n",
       "      <td>...</td>\n",
       "      <td>42420</td>\n",
       "      <td>South</td>\n",
       "      <td>FUR-CH-10000454</td>\n",
       "      <td>Furniture</td>\n",
       "      <td>Chairs</td>\n",
       "      <td>Hon Deluxe Fabric Upholstered Stacking Chairs,...</td>\n",
       "      <td>731.9400</td>\n",
       "      <td>3</td>\n",
       "      <td>0.00</td>\n",
       "      <td>219.5820</td>\n",
       "    </tr>\n",
       "    <tr>\n",
       "      <th>2</th>\n",
       "      <td>3</td>\n",
       "      <td>CA-2016-138688</td>\n",
       "      <td>6/12/2016</td>\n",
       "      <td>6/16/2016</td>\n",
       "      <td>Second Class</td>\n",
       "      <td>DV-13045</td>\n",
       "      <td>Darrin Van Huff</td>\n",
       "      <td>Corporate</td>\n",
       "      <td>United States</td>\n",
       "      <td>Los Angeles</td>\n",
       "      <td>...</td>\n",
       "      <td>90036</td>\n",
       "      <td>West</td>\n",
       "      <td>OFF-LA-10000240</td>\n",
       "      <td>Office Supplies</td>\n",
       "      <td>Labels</td>\n",
       "      <td>Self-Adhesive Address Labels for Typewriters b...</td>\n",
       "      <td>14.6200</td>\n",
       "      <td>2</td>\n",
       "      <td>0.00</td>\n",
       "      <td>6.8714</td>\n",
       "    </tr>\n",
       "    <tr>\n",
       "      <th>3</th>\n",
       "      <td>4</td>\n",
       "      <td>US-2015-108966</td>\n",
       "      <td>10/11/2015</td>\n",
       "      <td>10/18/2015</td>\n",
       "      <td>Standard Class</td>\n",
       "      <td>SO-20335</td>\n",
       "      <td>Sean O'Donnell</td>\n",
       "      <td>Consumer</td>\n",
       "      <td>United States</td>\n",
       "      <td>Fort Lauderdale</td>\n",
       "      <td>...</td>\n",
       "      <td>33311</td>\n",
       "      <td>South</td>\n",
       "      <td>FUR-TA-10000577</td>\n",
       "      <td>Furniture</td>\n",
       "      <td>Tables</td>\n",
       "      <td>Bretford CR4500 Series Slim Rectangular Table</td>\n",
       "      <td>957.5775</td>\n",
       "      <td>5</td>\n",
       "      <td>0.45</td>\n",
       "      <td>-383.0310</td>\n",
       "    </tr>\n",
       "    <tr>\n",
       "      <th>4</th>\n",
       "      <td>5</td>\n",
       "      <td>US-2015-108966</td>\n",
       "      <td>10/11/2015</td>\n",
       "      <td>10/18/2015</td>\n",
       "      <td>Standard Class</td>\n",
       "      <td>SO-20335</td>\n",
       "      <td>Sean O'Donnell</td>\n",
       "      <td>Consumer</td>\n",
       "      <td>United States</td>\n",
       "      <td>Fort Lauderdale</td>\n",
       "      <td>...</td>\n",
       "      <td>33311</td>\n",
       "      <td>South</td>\n",
       "      <td>OFF-ST-10000760</td>\n",
       "      <td>Office Supplies</td>\n",
       "      <td>Storage</td>\n",
       "      <td>Eldon Fold 'N Roll Cart System</td>\n",
       "      <td>22.3680</td>\n",
       "      <td>2</td>\n",
       "      <td>0.20</td>\n",
       "      <td>2.5164</td>\n",
       "    </tr>\n",
       "  </tbody>\n",
       "</table>\n",
       "<p>5 rows × 21 columns</p>\n",
       "</div>"
      ],
      "text/plain": [
       "   Row ID        Order ID  Order Date   Ship Date       Ship Mode Customer ID  \\\n",
       "0       1  CA-2016-152156   11/8/2016  11/11/2016    Second Class    CG-12520   \n",
       "1       2  CA-2016-152156   11/8/2016  11/11/2016    Second Class    CG-12520   \n",
       "2       3  CA-2016-138688   6/12/2016   6/16/2016    Second Class    DV-13045   \n",
       "3       4  US-2015-108966  10/11/2015  10/18/2015  Standard Class    SO-20335   \n",
       "4       5  US-2015-108966  10/11/2015  10/18/2015  Standard Class    SO-20335   \n",
       "\n",
       "     Customer Name    Segment        Country             City  ...  \\\n",
       "0      Claire Gute   Consumer  United States        Henderson  ...   \n",
       "1      Claire Gute   Consumer  United States        Henderson  ...   \n",
       "2  Darrin Van Huff  Corporate  United States      Los Angeles  ...   \n",
       "3   Sean O'Donnell   Consumer  United States  Fort Lauderdale  ...   \n",
       "4   Sean O'Donnell   Consumer  United States  Fort Lauderdale  ...   \n",
       "\n",
       "  Postal Code  Region       Product ID         Category Sub-Category  \\\n",
       "0       42420   South  FUR-BO-10001798        Furniture    Bookcases   \n",
       "1       42420   South  FUR-CH-10000454        Furniture       Chairs   \n",
       "2       90036    West  OFF-LA-10000240  Office Supplies       Labels   \n",
       "3       33311   South  FUR-TA-10000577        Furniture       Tables   \n",
       "4       33311   South  OFF-ST-10000760  Office Supplies      Storage   \n",
       "\n",
       "                                        Product Name     Sales  Quantity  \\\n",
       "0                  Bush Somerset Collection Bookcase  261.9600         2   \n",
       "1  Hon Deluxe Fabric Upholstered Stacking Chairs,...  731.9400         3   \n",
       "2  Self-Adhesive Address Labels for Typewriters b...   14.6200         2   \n",
       "3      Bretford CR4500 Series Slim Rectangular Table  957.5775         5   \n",
       "4                     Eldon Fold 'N Roll Cart System   22.3680         2   \n",
       "\n",
       "   Discount    Profit  \n",
       "0      0.00   41.9136  \n",
       "1      0.00  219.5820  \n",
       "2      0.00    6.8714  \n",
       "3      0.45 -383.0310  \n",
       "4      0.20    2.5164  \n",
       "\n",
       "[5 rows x 21 columns]"
      ]
     },
     "execution_count": 3,
     "metadata": {},
     "output_type": "execute_result"
    }
   ],
   "source": [
    "df = pd.read_csv(\"/kaggle/input/superstore-dataset-final/Sample - Superstore.csv\",encoding='windows-1254')\n",
    "\n",
    "df.head()"
   ]
  },
  {
   "cell_type": "code",
   "execution_count": 4,
   "id": "a672ad56",
   "metadata": {
    "execution": {
     "iopub.execute_input": "2023-05-02T16:13:21.111187Z",
     "iopub.status.busy": "2023-05-02T16:13:21.110822Z",
     "iopub.status.idle": "2023-05-02T16:13:21.117419Z",
     "shell.execute_reply": "2023-05-02T16:13:21.116426Z"
    },
    "papermill": {
     "duration": 0.016456,
     "end_time": "2023-05-02T16:13:21.119456",
     "exception": false,
     "start_time": "2023-05-02T16:13:21.103000",
     "status": "completed"
    },
    "tags": []
   },
   "outputs": [
    {
     "data": {
      "text/plain": [
       "Index(['Row ID', 'Order ID', 'Order Date', 'Ship Date', 'Ship Mode',\n",
       "       'Customer ID', 'Customer Name', 'Segment', 'Country', 'City', 'State',\n",
       "       'Postal Code', 'Region', 'Product ID', 'Category', 'Sub-Category',\n",
       "       'Product Name', 'Sales', 'Quantity', 'Discount', 'Profit'],\n",
       "      dtype='object')"
      ]
     },
     "execution_count": 4,
     "metadata": {},
     "output_type": "execute_result"
    }
   ],
   "source": [
    "df.columns"
   ]
  },
  {
   "cell_type": "code",
   "execution_count": 5,
   "id": "158cae43",
   "metadata": {
    "execution": {
     "iopub.execute_input": "2023-05-02T16:13:21.136338Z",
     "iopub.status.busy": "2023-05-02T16:13:21.135249Z",
     "iopub.status.idle": "2023-05-02T16:13:21.185486Z",
     "shell.execute_reply": "2023-05-02T16:13:21.184162Z"
    },
    "papermill": {
     "duration": 0.061828,
     "end_time": "2023-05-02T16:13:21.188504",
     "exception": false,
     "start_time": "2023-05-02T16:13:21.126676",
     "status": "completed"
    },
    "tags": []
   },
   "outputs": [
    {
     "name": "stdout",
     "output_type": "stream",
     "text": [
      "<class 'pandas.core.frame.DataFrame'>\n",
      "RangeIndex: 9994 entries, 0 to 9993\n",
      "Data columns (total 21 columns):\n",
      " #   Column         Non-Null Count  Dtype  \n",
      "---  ------         --------------  -----  \n",
      " 0   Row ID         9994 non-null   int64  \n",
      " 1   Order ID       9994 non-null   object \n",
      " 2   Order Date     9994 non-null   object \n",
      " 3   Ship Date      9994 non-null   object \n",
      " 4   Ship Mode      9994 non-null   object \n",
      " 5   Customer ID    9994 non-null   object \n",
      " 6   Customer Name  9994 non-null   object \n",
      " 7   Segment        9994 non-null   object \n",
      " 8   Country        9994 non-null   object \n",
      " 9   City           9994 non-null   object \n",
      " 10  State          9994 non-null   object \n",
      " 11  Postal Code    9994 non-null   int64  \n",
      " 12  Region         9994 non-null   object \n",
      " 13  Product ID     9994 non-null   object \n",
      " 14  Category       9994 non-null   object \n",
      " 15  Sub-Category   9994 non-null   object \n",
      " 16  Product Name   9994 non-null   object \n",
      " 17  Sales          9994 non-null   float64\n",
      " 18  Quantity       9994 non-null   int64  \n",
      " 19  Discount       9994 non-null   float64\n",
      " 20  Profit         9994 non-null   float64\n",
      "dtypes: float64(3), int64(3), object(15)\n",
      "memory usage: 1.6+ MB\n"
     ]
    }
   ],
   "source": [
    "df.info()"
   ]
  },
  {
   "cell_type": "code",
   "execution_count": 6,
   "id": "c67cb7df",
   "metadata": {
    "execution": {
     "iopub.execute_input": "2023-05-02T16:13:21.206379Z",
     "iopub.status.busy": "2023-05-02T16:13:21.205457Z",
     "iopub.status.idle": "2023-05-02T16:13:21.213205Z",
     "shell.execute_reply": "2023-05-02T16:13:21.212323Z"
    },
    "papermill": {
     "duration": 0.021932,
     "end_time": "2023-05-02T16:13:21.218616",
     "exception": false,
     "start_time": "2023-05-02T16:13:21.196684",
     "status": "completed"
    },
    "tags": []
   },
   "outputs": [
    {
     "data": {
      "text/plain": [
       "(9994, 21)"
      ]
     },
     "execution_count": 6,
     "metadata": {},
     "output_type": "execute_result"
    }
   ],
   "source": [
    "df.shape"
   ]
  },
  {
   "cell_type": "code",
   "execution_count": 7,
   "id": "4aa5a253",
   "metadata": {
    "execution": {
     "iopub.execute_input": "2023-05-02T16:13:21.237942Z",
     "iopub.status.busy": "2023-05-02T16:13:21.237224Z",
     "iopub.status.idle": "2023-05-02T16:13:21.267653Z",
     "shell.execute_reply": "2023-05-02T16:13:21.266541Z"
    },
    "papermill": {
     "duration": 0.041036,
     "end_time": "2023-05-02T16:13:21.269889",
     "exception": false,
     "start_time": "2023-05-02T16:13:21.228853",
     "status": "completed"
    },
    "tags": []
   },
   "outputs": [
    {
     "data": {
      "text/html": [
       "<div>\n",
       "<style scoped>\n",
       "    .dataframe tbody tr th:only-of-type {\n",
       "        vertical-align: middle;\n",
       "    }\n",
       "\n",
       "    .dataframe tbody tr th {\n",
       "        vertical-align: top;\n",
       "    }\n",
       "\n",
       "    .dataframe thead th {\n",
       "        text-align: right;\n",
       "    }\n",
       "</style>\n",
       "<table border=\"1\" class=\"dataframe\">\n",
       "  <thead>\n",
       "    <tr style=\"text-align: right;\">\n",
       "      <th></th>\n",
       "      <th>Row ID</th>\n",
       "      <th>Postal Code</th>\n",
       "      <th>Sales</th>\n",
       "      <th>Quantity</th>\n",
       "      <th>Discount</th>\n",
       "      <th>Profit</th>\n",
       "    </tr>\n",
       "  </thead>\n",
       "  <tbody>\n",
       "    <tr>\n",
       "      <th>count</th>\n",
       "      <td>9994.000000</td>\n",
       "      <td>9994.000000</td>\n",
       "      <td>9994.000000</td>\n",
       "      <td>9994.000000</td>\n",
       "      <td>9994.000000</td>\n",
       "      <td>9994.000000</td>\n",
       "    </tr>\n",
       "    <tr>\n",
       "      <th>mean</th>\n",
       "      <td>4997.500000</td>\n",
       "      <td>55190.379428</td>\n",
       "      <td>229.858001</td>\n",
       "      <td>3.789574</td>\n",
       "      <td>0.156203</td>\n",
       "      <td>28.656896</td>\n",
       "    </tr>\n",
       "    <tr>\n",
       "      <th>std</th>\n",
       "      <td>2885.163629</td>\n",
       "      <td>32063.693350</td>\n",
       "      <td>623.245101</td>\n",
       "      <td>2.225110</td>\n",
       "      <td>0.206452</td>\n",
       "      <td>234.260108</td>\n",
       "    </tr>\n",
       "    <tr>\n",
       "      <th>min</th>\n",
       "      <td>1.000000</td>\n",
       "      <td>1040.000000</td>\n",
       "      <td>0.444000</td>\n",
       "      <td>1.000000</td>\n",
       "      <td>0.000000</td>\n",
       "      <td>-6599.978000</td>\n",
       "    </tr>\n",
       "    <tr>\n",
       "      <th>25%</th>\n",
       "      <td>2499.250000</td>\n",
       "      <td>23223.000000</td>\n",
       "      <td>17.280000</td>\n",
       "      <td>2.000000</td>\n",
       "      <td>0.000000</td>\n",
       "      <td>1.728750</td>\n",
       "    </tr>\n",
       "    <tr>\n",
       "      <th>50%</th>\n",
       "      <td>4997.500000</td>\n",
       "      <td>56430.500000</td>\n",
       "      <td>54.490000</td>\n",
       "      <td>3.000000</td>\n",
       "      <td>0.200000</td>\n",
       "      <td>8.666500</td>\n",
       "    </tr>\n",
       "    <tr>\n",
       "      <th>75%</th>\n",
       "      <td>7495.750000</td>\n",
       "      <td>90008.000000</td>\n",
       "      <td>209.940000</td>\n",
       "      <td>5.000000</td>\n",
       "      <td>0.200000</td>\n",
       "      <td>29.364000</td>\n",
       "    </tr>\n",
       "    <tr>\n",
       "      <th>max</th>\n",
       "      <td>9994.000000</td>\n",
       "      <td>99301.000000</td>\n",
       "      <td>22638.480000</td>\n",
       "      <td>14.000000</td>\n",
       "      <td>0.800000</td>\n",
       "      <td>8399.976000</td>\n",
       "    </tr>\n",
       "  </tbody>\n",
       "</table>\n",
       "</div>"
      ],
      "text/plain": [
       "            Row ID   Postal Code         Sales     Quantity     Discount  \\\n",
       "count  9994.000000   9994.000000   9994.000000  9994.000000  9994.000000   \n",
       "mean   4997.500000  55190.379428    229.858001     3.789574     0.156203   \n",
       "std    2885.163629  32063.693350    623.245101     2.225110     0.206452   \n",
       "min       1.000000   1040.000000      0.444000     1.000000     0.000000   \n",
       "25%    2499.250000  23223.000000     17.280000     2.000000     0.000000   \n",
       "50%    4997.500000  56430.500000     54.490000     3.000000     0.200000   \n",
       "75%    7495.750000  90008.000000    209.940000     5.000000     0.200000   \n",
       "max    9994.000000  99301.000000  22638.480000    14.000000     0.800000   \n",
       "\n",
       "            Profit  \n",
       "count  9994.000000  \n",
       "mean     28.656896  \n",
       "std     234.260108  \n",
       "min   -6599.978000  \n",
       "25%       1.728750  \n",
       "50%       8.666500  \n",
       "75%      29.364000  \n",
       "max    8399.976000  "
      ]
     },
     "execution_count": 7,
     "metadata": {},
     "output_type": "execute_result"
    }
   ],
   "source": [
    "df.describe()"
   ]
  },
  {
   "cell_type": "code",
   "execution_count": 8,
   "id": "619f0a8c",
   "metadata": {
    "execution": {
     "iopub.execute_input": "2023-05-02T16:13:21.286206Z",
     "iopub.status.busy": "2023-05-02T16:13:21.285829Z",
     "iopub.status.idle": "2023-05-02T16:13:21.345292Z",
     "shell.execute_reply": "2023-05-02T16:13:21.344201Z"
    },
    "papermill": {
     "duration": 0.070355,
     "end_time": "2023-05-02T16:13:21.347612",
     "exception": false,
     "start_time": "2023-05-02T16:13:21.277257",
     "status": "completed"
    },
    "tags": []
   },
   "outputs": [
    {
     "data": {
      "text/html": [
       "<div>\n",
       "<style scoped>\n",
       "    .dataframe tbody tr th:only-of-type {\n",
       "        vertical-align: middle;\n",
       "    }\n",
       "\n",
       "    .dataframe tbody tr th {\n",
       "        vertical-align: top;\n",
       "    }\n",
       "\n",
       "    .dataframe thead th {\n",
       "        text-align: right;\n",
       "    }\n",
       "</style>\n",
       "<table border=\"1\" class=\"dataframe\">\n",
       "  <thead>\n",
       "    <tr style=\"text-align: right;\">\n",
       "      <th></th>\n",
       "      <th>Order ID</th>\n",
       "      <th>Order Date</th>\n",
       "      <th>Ship Date</th>\n",
       "      <th>Ship Mode</th>\n",
       "      <th>Customer ID</th>\n",
       "      <th>Customer Name</th>\n",
       "      <th>Segment</th>\n",
       "      <th>Country</th>\n",
       "      <th>City</th>\n",
       "      <th>State</th>\n",
       "      <th>Region</th>\n",
       "      <th>Product ID</th>\n",
       "      <th>Category</th>\n",
       "      <th>Sub-Category</th>\n",
       "      <th>Product Name</th>\n",
       "    </tr>\n",
       "  </thead>\n",
       "  <tbody>\n",
       "    <tr>\n",
       "      <th>count</th>\n",
       "      <td>9994</td>\n",
       "      <td>9994</td>\n",
       "      <td>9994</td>\n",
       "      <td>9994</td>\n",
       "      <td>9994</td>\n",
       "      <td>9994</td>\n",
       "      <td>9994</td>\n",
       "      <td>9994</td>\n",
       "      <td>9994</td>\n",
       "      <td>9994</td>\n",
       "      <td>9994</td>\n",
       "      <td>9994</td>\n",
       "      <td>9994</td>\n",
       "      <td>9994</td>\n",
       "      <td>9994</td>\n",
       "    </tr>\n",
       "    <tr>\n",
       "      <th>unique</th>\n",
       "      <td>5009</td>\n",
       "      <td>1237</td>\n",
       "      <td>1334</td>\n",
       "      <td>4</td>\n",
       "      <td>793</td>\n",
       "      <td>793</td>\n",
       "      <td>3</td>\n",
       "      <td>1</td>\n",
       "      <td>531</td>\n",
       "      <td>49</td>\n",
       "      <td>4</td>\n",
       "      <td>1862</td>\n",
       "      <td>3</td>\n",
       "      <td>17</td>\n",
       "      <td>1850</td>\n",
       "    </tr>\n",
       "    <tr>\n",
       "      <th>top</th>\n",
       "      <td>CA-2017-100111</td>\n",
       "      <td>9/5/2016</td>\n",
       "      <td>12/16/2015</td>\n",
       "      <td>Standard Class</td>\n",
       "      <td>WB-21850</td>\n",
       "      <td>William Brown</td>\n",
       "      <td>Consumer</td>\n",
       "      <td>United States</td>\n",
       "      <td>New York City</td>\n",
       "      <td>California</td>\n",
       "      <td>West</td>\n",
       "      <td>OFF-PA-10001970</td>\n",
       "      <td>Office Supplies</td>\n",
       "      <td>Binders</td>\n",
       "      <td>Staple envelope</td>\n",
       "    </tr>\n",
       "    <tr>\n",
       "      <th>freq</th>\n",
       "      <td>14</td>\n",
       "      <td>38</td>\n",
       "      <td>35</td>\n",
       "      <td>5968</td>\n",
       "      <td>37</td>\n",
       "      <td>37</td>\n",
       "      <td>5191</td>\n",
       "      <td>9994</td>\n",
       "      <td>915</td>\n",
       "      <td>2001</td>\n",
       "      <td>3203</td>\n",
       "      <td>19</td>\n",
       "      <td>6026</td>\n",
       "      <td>1523</td>\n",
       "      <td>48</td>\n",
       "    </tr>\n",
       "  </tbody>\n",
       "</table>\n",
       "</div>"
      ],
      "text/plain": [
       "              Order ID Order Date   Ship Date       Ship Mode Customer ID  \\\n",
       "count             9994       9994        9994            9994        9994   \n",
       "unique            5009       1237        1334               4         793   \n",
       "top     CA-2017-100111   9/5/2016  12/16/2015  Standard Class    WB-21850   \n",
       "freq                14         38          35            5968          37   \n",
       "\n",
       "        Customer Name   Segment        Country           City       State  \\\n",
       "count            9994      9994           9994           9994        9994   \n",
       "unique            793         3              1            531          49   \n",
       "top     William Brown  Consumer  United States  New York City  California   \n",
       "freq               37      5191           9994            915        2001   \n",
       "\n",
       "       Region       Product ID         Category Sub-Category     Product Name  \n",
       "count    9994             9994             9994         9994             9994  \n",
       "unique      4             1862                3           17             1850  \n",
       "top      West  OFF-PA-10001970  Office Supplies      Binders  Staple envelope  \n",
       "freq     3203               19             6026         1523               48  "
      ]
     },
     "execution_count": 8,
     "metadata": {},
     "output_type": "execute_result"
    }
   ],
   "source": [
    "df.describe(include=\"object\")"
   ]
  },
  {
   "cell_type": "code",
   "execution_count": 9,
   "id": "8c1efe5d",
   "metadata": {
    "execution": {
     "iopub.execute_input": "2023-05-02T16:13:21.364696Z",
     "iopub.status.busy": "2023-05-02T16:13:21.363999Z",
     "iopub.status.idle": "2023-05-02T16:13:21.370681Z",
     "shell.execute_reply": "2023-05-02T16:13:21.369939Z"
    },
    "papermill": {
     "duration": 0.017314,
     "end_time": "2023-05-02T16:13:21.372495",
     "exception": false,
     "start_time": "2023-05-02T16:13:21.355181",
     "status": "completed"
    },
    "tags": []
   },
   "outputs": [
    {
     "data": {
      "text/plain": [
       "Row ID             int64\n",
       "Order ID          object\n",
       "Order Date        object\n",
       "Ship Date         object\n",
       "Ship Mode         object\n",
       "Customer ID       object\n",
       "Customer Name     object\n",
       "Segment           object\n",
       "Country           object\n",
       "City              object\n",
       "State             object\n",
       "Postal Code        int64\n",
       "Region            object\n",
       "Product ID        object\n",
       "Category          object\n",
       "Sub-Category      object\n",
       "Product Name      object\n",
       "Sales            float64\n",
       "Quantity           int64\n",
       "Discount         float64\n",
       "Profit           float64\n",
       "dtype: object"
      ]
     },
     "execution_count": 9,
     "metadata": {},
     "output_type": "execute_result"
    }
   ],
   "source": [
    "df.dtypes"
   ]
  },
  {
   "cell_type": "code",
   "execution_count": 10,
   "id": "e8774872",
   "metadata": {
    "execution": {
     "iopub.execute_input": "2023-05-02T16:13:21.390028Z",
     "iopub.status.busy": "2023-05-02T16:13:21.389076Z",
     "iopub.status.idle": "2023-05-02T16:13:21.394258Z",
     "shell.execute_reply": "2023-05-02T16:13:21.393484Z"
    },
    "papermill": {
     "duration": 0.016126,
     "end_time": "2023-05-02T16:13:21.396303",
     "exception": false,
     "start_time": "2023-05-02T16:13:21.380177",
     "status": "completed"
    },
    "tags": []
   },
   "outputs": [],
   "source": [
    "df[\"Revenue\"]=df[\"Sales\"]-df[\"Profit\"]"
   ]
  },
  {
   "cell_type": "code",
   "execution_count": 11,
   "id": "53a9e6d4",
   "metadata": {
    "execution": {
     "iopub.execute_input": "2023-05-02T16:13:21.413002Z",
     "iopub.status.busy": "2023-05-02T16:13:21.412642Z",
     "iopub.status.idle": "2023-05-02T16:13:21.433773Z",
     "shell.execute_reply": "2023-05-02T16:13:21.432660Z"
    },
    "papermill": {
     "duration": 0.031995,
     "end_time": "2023-05-02T16:13:21.435935",
     "exception": false,
     "start_time": "2023-05-02T16:13:21.403940",
     "status": "completed"
    },
    "tags": []
   },
   "outputs": [
    {
     "data": {
      "text/html": [
       "<div>\n",
       "<style scoped>\n",
       "    .dataframe tbody tr th:only-of-type {\n",
       "        vertical-align: middle;\n",
       "    }\n",
       "\n",
       "    .dataframe tbody tr th {\n",
       "        vertical-align: top;\n",
       "    }\n",
       "\n",
       "    .dataframe thead th {\n",
       "        text-align: right;\n",
       "    }\n",
       "</style>\n",
       "<table border=\"1\" class=\"dataframe\">\n",
       "  <thead>\n",
       "    <tr style=\"text-align: right;\">\n",
       "      <th></th>\n",
       "      <th>Row ID</th>\n",
       "      <th>Order ID</th>\n",
       "      <th>Order Date</th>\n",
       "      <th>Ship Date</th>\n",
       "      <th>Ship Mode</th>\n",
       "      <th>Customer ID</th>\n",
       "      <th>Customer Name</th>\n",
       "      <th>Segment</th>\n",
       "      <th>Country</th>\n",
       "      <th>City</th>\n",
       "      <th>...</th>\n",
       "      <th>Region</th>\n",
       "      <th>Product ID</th>\n",
       "      <th>Category</th>\n",
       "      <th>Sub-Category</th>\n",
       "      <th>Product Name</th>\n",
       "      <th>Sales</th>\n",
       "      <th>Quantity</th>\n",
       "      <th>Discount</th>\n",
       "      <th>Profit</th>\n",
       "      <th>Revenue</th>\n",
       "    </tr>\n",
       "  </thead>\n",
       "  <tbody>\n",
       "    <tr>\n",
       "      <th>0</th>\n",
       "      <td>1</td>\n",
       "      <td>CA-2016-152156</td>\n",
       "      <td>11/8/2016</td>\n",
       "      <td>11/11/2016</td>\n",
       "      <td>Second Class</td>\n",
       "      <td>CG-12520</td>\n",
       "      <td>Claire Gute</td>\n",
       "      <td>Consumer</td>\n",
       "      <td>United States</td>\n",
       "      <td>Henderson</td>\n",
       "      <td>...</td>\n",
       "      <td>South</td>\n",
       "      <td>FUR-BO-10001798</td>\n",
       "      <td>Furniture</td>\n",
       "      <td>Bookcases</td>\n",
       "      <td>Bush Somerset Collection Bookcase</td>\n",
       "      <td>261.96</td>\n",
       "      <td>2</td>\n",
       "      <td>0.0</td>\n",
       "      <td>41.9136</td>\n",
       "      <td>220.0464</td>\n",
       "    </tr>\n",
       "    <tr>\n",
       "      <th>1</th>\n",
       "      <td>2</td>\n",
       "      <td>CA-2016-152156</td>\n",
       "      <td>11/8/2016</td>\n",
       "      <td>11/11/2016</td>\n",
       "      <td>Second Class</td>\n",
       "      <td>CG-12520</td>\n",
       "      <td>Claire Gute</td>\n",
       "      <td>Consumer</td>\n",
       "      <td>United States</td>\n",
       "      <td>Henderson</td>\n",
       "      <td>...</td>\n",
       "      <td>South</td>\n",
       "      <td>FUR-CH-10000454</td>\n",
       "      <td>Furniture</td>\n",
       "      <td>Chairs</td>\n",
       "      <td>Hon Deluxe Fabric Upholstered Stacking Chairs,...</td>\n",
       "      <td>731.94</td>\n",
       "      <td>3</td>\n",
       "      <td>0.0</td>\n",
       "      <td>219.5820</td>\n",
       "      <td>512.3580</td>\n",
       "    </tr>\n",
       "  </tbody>\n",
       "</table>\n",
       "<p>2 rows × 22 columns</p>\n",
       "</div>"
      ],
      "text/plain": [
       "   Row ID        Order ID Order Date   Ship Date     Ship Mode Customer ID  \\\n",
       "0       1  CA-2016-152156  11/8/2016  11/11/2016  Second Class    CG-12520   \n",
       "1       2  CA-2016-152156  11/8/2016  11/11/2016  Second Class    CG-12520   \n",
       "\n",
       "  Customer Name   Segment        Country       City  ... Region  \\\n",
       "0   Claire Gute  Consumer  United States  Henderson  ...  South   \n",
       "1   Claire Gute  Consumer  United States  Henderson  ...  South   \n",
       "\n",
       "        Product ID   Category Sub-Category  \\\n",
       "0  FUR-BO-10001798  Furniture    Bookcases   \n",
       "1  FUR-CH-10000454  Furniture       Chairs   \n",
       "\n",
       "                                        Product Name   Sales Quantity  \\\n",
       "0                  Bush Somerset Collection Bookcase  261.96        2   \n",
       "1  Hon Deluxe Fabric Upholstered Stacking Chairs,...  731.94        3   \n",
       "\n",
       "   Discount    Profit   Revenue  \n",
       "0       0.0   41.9136  220.0464  \n",
       "1       0.0  219.5820  512.3580  \n",
       "\n",
       "[2 rows x 22 columns]"
      ]
     },
     "execution_count": 11,
     "metadata": {},
     "output_type": "execute_result"
    }
   ],
   "source": [
    "df.head(2)"
   ]
  },
  {
   "cell_type": "markdown",
   "id": "5394d8a0",
   "metadata": {
    "papermill": {
     "duration": 0.007941,
     "end_time": "2023-05-02T16:13:21.452720",
     "exception": false,
     "start_time": "2023-05-02T16:13:21.444779",
     "status": "completed"
    },
    "tags": []
   },
   "source": [
    "# ****Data Cleaing****\n"
   ]
  },
  {
   "cell_type": "code",
   "execution_count": 12,
   "id": "bfa68c8d",
   "metadata": {
    "execution": {
     "iopub.execute_input": "2023-05-02T16:13:21.470922Z",
     "iopub.status.busy": "2023-05-02T16:13:21.470299Z",
     "iopub.status.idle": "2023-05-02T16:13:21.500378Z",
     "shell.execute_reply": "2023-05-02T16:13:21.499329Z"
    },
    "papermill": {
     "duration": 0.041781,
     "end_time": "2023-05-02T16:13:21.502437",
     "exception": false,
     "start_time": "2023-05-02T16:13:21.460656",
     "status": "completed"
    },
    "tags": []
   },
   "outputs": [
    {
     "data": {
      "text/plain": [
       "Row ID           0\n",
       "Order ID         0\n",
       "Order Date       0\n",
       "Ship Date        0\n",
       "Ship Mode        0\n",
       "Customer ID      0\n",
       "Customer Name    0\n",
       "Segment          0\n",
       "Country          0\n",
       "City             0\n",
       "State            0\n",
       "Postal Code      0\n",
       "Region           0\n",
       "Product ID       0\n",
       "Category         0\n",
       "Sub-Category     0\n",
       "Product Name     0\n",
       "Sales            0\n",
       "Quantity         0\n",
       "Discount         0\n",
       "Profit           0\n",
       "Revenue          0\n",
       "dtype: int64"
      ]
     },
     "execution_count": 12,
     "metadata": {},
     "output_type": "execute_result"
    }
   ],
   "source": [
    "df.isnull().sum()"
   ]
  },
  {
   "cell_type": "code",
   "execution_count": 13,
   "id": "49a6f724",
   "metadata": {
    "execution": {
     "iopub.execute_input": "2023-05-02T16:13:21.520378Z",
     "iopub.status.busy": "2023-05-02T16:13:21.519802Z",
     "iopub.status.idle": "2023-05-02T16:13:21.526811Z",
     "shell.execute_reply": "2023-05-02T16:13:21.525891Z"
    },
    "papermill": {
     "duration": 0.018502,
     "end_time": "2023-05-02T16:13:21.528936",
     "exception": false,
     "start_time": "2023-05-02T16:13:21.510434",
     "status": "completed"
    },
    "tags": []
   },
   "outputs": [],
   "source": [
    "df.drop(\"Row ID\",axis=1,inplace=True)"
   ]
  },
  {
   "cell_type": "code",
   "execution_count": 14,
   "id": "baed340b",
   "metadata": {
    "execution": {
     "iopub.execute_input": "2023-05-02T16:13:21.546729Z",
     "iopub.status.busy": "2023-05-02T16:13:21.546319Z",
     "iopub.status.idle": "2023-05-02T16:13:21.551245Z",
     "shell.execute_reply": "2023-05-02T16:13:21.550478Z"
    },
    "papermill": {
     "duration": 0.016005,
     "end_time": "2023-05-02T16:13:21.553139",
     "exception": false,
     "start_time": "2023-05-02T16:13:21.537134",
     "status": "completed"
    },
    "tags": []
   },
   "outputs": [],
   "source": [
    "df.set_index(\"Order ID\",inplace=True)"
   ]
  },
  {
   "cell_type": "code",
   "execution_count": 15,
   "id": "f514e083",
   "metadata": {
    "execution": {
     "iopub.execute_input": "2023-05-02T16:13:21.571742Z",
     "iopub.status.busy": "2023-05-02T16:13:21.570781Z",
     "iopub.status.idle": "2023-05-02T16:13:21.589671Z",
     "shell.execute_reply": "2023-05-02T16:13:21.588626Z"
    },
    "papermill": {
     "duration": 0.030778,
     "end_time": "2023-05-02T16:13:21.591913",
     "exception": false,
     "start_time": "2023-05-02T16:13:21.561135",
     "status": "completed"
    },
    "tags": []
   },
   "outputs": [
    {
     "data": {
      "text/html": [
       "<div>\n",
       "<style scoped>\n",
       "    .dataframe tbody tr th:only-of-type {\n",
       "        vertical-align: middle;\n",
       "    }\n",
       "\n",
       "    .dataframe tbody tr th {\n",
       "        vertical-align: top;\n",
       "    }\n",
       "\n",
       "    .dataframe thead th {\n",
       "        text-align: right;\n",
       "    }\n",
       "</style>\n",
       "<table border=\"1\" class=\"dataframe\">\n",
       "  <thead>\n",
       "    <tr style=\"text-align: right;\">\n",
       "      <th></th>\n",
       "      <th>Order Date</th>\n",
       "      <th>Ship Date</th>\n",
       "      <th>Ship Mode</th>\n",
       "      <th>Customer ID</th>\n",
       "      <th>Customer Name</th>\n",
       "      <th>Segment</th>\n",
       "      <th>Country</th>\n",
       "      <th>City</th>\n",
       "      <th>State</th>\n",
       "      <th>Postal Code</th>\n",
       "      <th>Region</th>\n",
       "      <th>Product ID</th>\n",
       "      <th>Category</th>\n",
       "      <th>Sub-Category</th>\n",
       "      <th>Product Name</th>\n",
       "      <th>Sales</th>\n",
       "      <th>Quantity</th>\n",
       "      <th>Discount</th>\n",
       "      <th>Profit</th>\n",
       "      <th>Revenue</th>\n",
       "    </tr>\n",
       "    <tr>\n",
       "      <th>Order ID</th>\n",
       "      <th></th>\n",
       "      <th></th>\n",
       "      <th></th>\n",
       "      <th></th>\n",
       "      <th></th>\n",
       "      <th></th>\n",
       "      <th></th>\n",
       "      <th></th>\n",
       "      <th></th>\n",
       "      <th></th>\n",
       "      <th></th>\n",
       "      <th></th>\n",
       "      <th></th>\n",
       "      <th></th>\n",
       "      <th></th>\n",
       "      <th></th>\n",
       "      <th></th>\n",
       "      <th></th>\n",
       "      <th></th>\n",
       "      <th></th>\n",
       "    </tr>\n",
       "  </thead>\n",
       "  <tbody>\n",
       "    <tr>\n",
       "      <th>CA-2016-152156</th>\n",
       "      <td>11/8/2016</td>\n",
       "      <td>11/11/2016</td>\n",
       "      <td>Second Class</td>\n",
       "      <td>CG-12520</td>\n",
       "      <td>Claire Gute</td>\n",
       "      <td>Consumer</td>\n",
       "      <td>United States</td>\n",
       "      <td>Henderson</td>\n",
       "      <td>Kentucky</td>\n",
       "      <td>42420</td>\n",
       "      <td>South</td>\n",
       "      <td>FUR-BO-10001798</td>\n",
       "      <td>Furniture</td>\n",
       "      <td>Bookcases</td>\n",
       "      <td>Bush Somerset Collection Bookcase</td>\n",
       "      <td>261.96</td>\n",
       "      <td>2</td>\n",
       "      <td>0.0</td>\n",
       "      <td>41.9136</td>\n",
       "      <td>220.0464</td>\n",
       "    </tr>\n",
       "    <tr>\n",
       "      <th>CA-2016-152156</th>\n",
       "      <td>11/8/2016</td>\n",
       "      <td>11/11/2016</td>\n",
       "      <td>Second Class</td>\n",
       "      <td>CG-12520</td>\n",
       "      <td>Claire Gute</td>\n",
       "      <td>Consumer</td>\n",
       "      <td>United States</td>\n",
       "      <td>Henderson</td>\n",
       "      <td>Kentucky</td>\n",
       "      <td>42420</td>\n",
       "      <td>South</td>\n",
       "      <td>FUR-CH-10000454</td>\n",
       "      <td>Furniture</td>\n",
       "      <td>Chairs</td>\n",
       "      <td>Hon Deluxe Fabric Upholstered Stacking Chairs,...</td>\n",
       "      <td>731.94</td>\n",
       "      <td>3</td>\n",
       "      <td>0.0</td>\n",
       "      <td>219.5820</td>\n",
       "      <td>512.3580</td>\n",
       "    </tr>\n",
       "  </tbody>\n",
       "</table>\n",
       "</div>"
      ],
      "text/plain": [
       "               Order Date   Ship Date     Ship Mode Customer ID Customer Name  \\\n",
       "Order ID                                                                        \n",
       "CA-2016-152156  11/8/2016  11/11/2016  Second Class    CG-12520   Claire Gute   \n",
       "CA-2016-152156  11/8/2016  11/11/2016  Second Class    CG-12520   Claire Gute   \n",
       "\n",
       "                 Segment        Country       City     State  Postal Code  \\\n",
       "Order ID                                                                    \n",
       "CA-2016-152156  Consumer  United States  Henderson  Kentucky        42420   \n",
       "CA-2016-152156  Consumer  United States  Henderson  Kentucky        42420   \n",
       "\n",
       "               Region       Product ID   Category Sub-Category  \\\n",
       "Order ID                                                         \n",
       "CA-2016-152156  South  FUR-BO-10001798  Furniture    Bookcases   \n",
       "CA-2016-152156  South  FUR-CH-10000454  Furniture       Chairs   \n",
       "\n",
       "                                                     Product Name   Sales  \\\n",
       "Order ID                                                                    \n",
       "CA-2016-152156                  Bush Somerset Collection Bookcase  261.96   \n",
       "CA-2016-152156  Hon Deluxe Fabric Upholstered Stacking Chairs,...  731.94   \n",
       "\n",
       "                Quantity  Discount    Profit   Revenue  \n",
       "Order ID                                                \n",
       "CA-2016-152156         2       0.0   41.9136  220.0464  \n",
       "CA-2016-152156         3       0.0  219.5820  512.3580  "
      ]
     },
     "execution_count": 15,
     "metadata": {},
     "output_type": "execute_result"
    }
   ],
   "source": [
    "df.head(2)"
   ]
  },
  {
   "cell_type": "markdown",
   "id": "8416365b",
   "metadata": {
    "papermill": {
     "duration": 0.008049,
     "end_time": "2023-05-02T16:13:21.608353",
     "exception": false,
     "start_time": "2023-05-02T16:13:21.600304",
     "status": "completed"
    },
    "tags": []
   },
   "source": [
    "**Change Data type to date time and postal code to object**"
   ]
  },
  {
   "cell_type": "code",
   "execution_count": 16,
   "id": "30b4c823",
   "metadata": {
    "execution": {
     "iopub.execute_input": "2023-05-02T16:13:21.626554Z",
     "iopub.status.busy": "2023-05-02T16:13:21.626183Z",
     "iopub.status.idle": "2023-05-02T16:13:21.632262Z",
     "shell.execute_reply": "2023-05-02T16:13:21.631103Z"
    },
    "papermill": {
     "duration": 0.017674,
     "end_time": "2023-05-02T16:13:21.634380",
     "exception": false,
     "start_time": "2023-05-02T16:13:21.616706",
     "status": "completed"
    },
    "tags": []
   },
   "outputs": [
    {
     "data": {
      "text/plain": [
       "Index(['Order Date', 'Ship Date', 'Ship Mode', 'Customer ID', 'Customer Name',\n",
       "       'Segment', 'Country', 'City', 'State', 'Postal Code', 'Region',\n",
       "       'Product ID', 'Category', 'Sub-Category', 'Product Name', 'Sales',\n",
       "       'Quantity', 'Discount', 'Profit', 'Revenue'],\n",
       "      dtype='object')"
      ]
     },
     "execution_count": 16,
     "metadata": {},
     "output_type": "execute_result"
    }
   ],
   "source": [
    "df.columns"
   ]
  },
  {
   "cell_type": "code",
   "execution_count": 17,
   "id": "a9d23734",
   "metadata": {
    "execution": {
     "iopub.execute_input": "2023-05-02T16:13:21.653088Z",
     "iopub.status.busy": "2023-05-02T16:13:21.652740Z",
     "iopub.status.idle": "2023-05-02T16:13:21.672924Z",
     "shell.execute_reply": "2023-05-02T16:13:21.671991Z"
    },
    "papermill": {
     "duration": 0.032861,
     "end_time": "2023-05-02T16:13:21.675629",
     "exception": false,
     "start_time": "2023-05-02T16:13:21.642768",
     "status": "completed"
    },
    "tags": []
   },
   "outputs": [],
   "source": [
    "df[[\"Order Date\",\"Ship Date\"]]=df[[\"Order Date\",\"Ship Date\"]].apply(pd.to_datetime)\n",
    "\n",
    "df[\"Postal Code\"]=df[\"Postal Code\"].astype(\"object\")"
   ]
  },
  {
   "cell_type": "markdown",
   "id": "edb04a1b",
   "metadata": {
    "papermill": {
     "duration": 0.008293,
     "end_time": "2023-05-02T16:13:21.692889",
     "exception": false,
     "start_time": "2023-05-02T16:13:21.684596",
     "status": "completed"
    },
    "tags": []
   },
   "source": []
  },
  {
   "cell_type": "code",
   "execution_count": 18,
   "id": "f0ae45e7",
   "metadata": {
    "execution": {
     "iopub.execute_input": "2023-05-02T16:13:21.711843Z",
     "iopub.status.busy": "2023-05-02T16:13:21.711104Z",
     "iopub.status.idle": "2023-05-02T16:13:21.731856Z",
     "shell.execute_reply": "2023-05-02T16:13:21.730729Z"
    },
    "papermill": {
     "duration": 0.032627,
     "end_time": "2023-05-02T16:13:21.733979",
     "exception": false,
     "start_time": "2023-05-02T16:13:21.701352",
     "status": "completed"
    },
    "tags": []
   },
   "outputs": [
    {
     "data": {
      "text/html": [
       "<div>\n",
       "<style scoped>\n",
       "    .dataframe tbody tr th:only-of-type {\n",
       "        vertical-align: middle;\n",
       "    }\n",
       "\n",
       "    .dataframe tbody tr th {\n",
       "        vertical-align: top;\n",
       "    }\n",
       "\n",
       "    .dataframe thead th {\n",
       "        text-align: right;\n",
       "    }\n",
       "</style>\n",
       "<table border=\"1\" class=\"dataframe\">\n",
       "  <thead>\n",
       "    <tr style=\"text-align: right;\">\n",
       "      <th></th>\n",
       "      <th>Order Date</th>\n",
       "      <th>Ship Date</th>\n",
       "      <th>Ship Mode</th>\n",
       "      <th>Customer ID</th>\n",
       "      <th>Customer Name</th>\n",
       "      <th>Segment</th>\n",
       "      <th>Country</th>\n",
       "      <th>City</th>\n",
       "      <th>State</th>\n",
       "      <th>Postal Code</th>\n",
       "      <th>Region</th>\n",
       "      <th>Product ID</th>\n",
       "      <th>Category</th>\n",
       "      <th>Sub-Category</th>\n",
       "      <th>Product Name</th>\n",
       "      <th>Sales</th>\n",
       "      <th>Quantity</th>\n",
       "      <th>Discount</th>\n",
       "      <th>Profit</th>\n",
       "      <th>Revenue</th>\n",
       "    </tr>\n",
       "    <tr>\n",
       "      <th>Order ID</th>\n",
       "      <th></th>\n",
       "      <th></th>\n",
       "      <th></th>\n",
       "      <th></th>\n",
       "      <th></th>\n",
       "      <th></th>\n",
       "      <th></th>\n",
       "      <th></th>\n",
       "      <th></th>\n",
       "      <th></th>\n",
       "      <th></th>\n",
       "      <th></th>\n",
       "      <th></th>\n",
       "      <th></th>\n",
       "      <th></th>\n",
       "      <th></th>\n",
       "      <th></th>\n",
       "      <th></th>\n",
       "      <th></th>\n",
       "      <th></th>\n",
       "    </tr>\n",
       "  </thead>\n",
       "  <tbody>\n",
       "    <tr>\n",
       "      <th>CA-2016-152156</th>\n",
       "      <td>2016-11-08</td>\n",
       "      <td>2016-11-11</td>\n",
       "      <td>Second Class</td>\n",
       "      <td>CG-12520</td>\n",
       "      <td>Claire Gute</td>\n",
       "      <td>Consumer</td>\n",
       "      <td>United States</td>\n",
       "      <td>Henderson</td>\n",
       "      <td>Kentucky</td>\n",
       "      <td>42420</td>\n",
       "      <td>South</td>\n",
       "      <td>FUR-BO-10001798</td>\n",
       "      <td>Furniture</td>\n",
       "      <td>Bookcases</td>\n",
       "      <td>Bush Somerset Collection Bookcase</td>\n",
       "      <td>261.96</td>\n",
       "      <td>2</td>\n",
       "      <td>0.0</td>\n",
       "      <td>41.9136</td>\n",
       "      <td>220.0464</td>\n",
       "    </tr>\n",
       "    <tr>\n",
       "      <th>CA-2016-152156</th>\n",
       "      <td>2016-11-08</td>\n",
       "      <td>2016-11-11</td>\n",
       "      <td>Second Class</td>\n",
       "      <td>CG-12520</td>\n",
       "      <td>Claire Gute</td>\n",
       "      <td>Consumer</td>\n",
       "      <td>United States</td>\n",
       "      <td>Henderson</td>\n",
       "      <td>Kentucky</td>\n",
       "      <td>42420</td>\n",
       "      <td>South</td>\n",
       "      <td>FUR-CH-10000454</td>\n",
       "      <td>Furniture</td>\n",
       "      <td>Chairs</td>\n",
       "      <td>Hon Deluxe Fabric Upholstered Stacking Chairs,...</td>\n",
       "      <td>731.94</td>\n",
       "      <td>3</td>\n",
       "      <td>0.0</td>\n",
       "      <td>219.5820</td>\n",
       "      <td>512.3580</td>\n",
       "    </tr>\n",
       "  </tbody>\n",
       "</table>\n",
       "</div>"
      ],
      "text/plain": [
       "               Order Date  Ship Date     Ship Mode Customer ID Customer Name  \\\n",
       "Order ID                                                                       \n",
       "CA-2016-152156 2016-11-08 2016-11-11  Second Class    CG-12520   Claire Gute   \n",
       "CA-2016-152156 2016-11-08 2016-11-11  Second Class    CG-12520   Claire Gute   \n",
       "\n",
       "                 Segment        Country       City     State Postal Code  \\\n",
       "Order ID                                                                   \n",
       "CA-2016-152156  Consumer  United States  Henderson  Kentucky       42420   \n",
       "CA-2016-152156  Consumer  United States  Henderson  Kentucky       42420   \n",
       "\n",
       "               Region       Product ID   Category Sub-Category  \\\n",
       "Order ID                                                         \n",
       "CA-2016-152156  South  FUR-BO-10001798  Furniture    Bookcases   \n",
       "CA-2016-152156  South  FUR-CH-10000454  Furniture       Chairs   \n",
       "\n",
       "                                                     Product Name   Sales  \\\n",
       "Order ID                                                                    \n",
       "CA-2016-152156                  Bush Somerset Collection Bookcase  261.96   \n",
       "CA-2016-152156  Hon Deluxe Fabric Upholstered Stacking Chairs,...  731.94   \n",
       "\n",
       "                Quantity  Discount    Profit   Revenue  \n",
       "Order ID                                                \n",
       "CA-2016-152156         2       0.0   41.9136  220.0464  \n",
       "CA-2016-152156         3       0.0  219.5820  512.3580  "
      ]
     },
     "execution_count": 18,
     "metadata": {},
     "output_type": "execute_result"
    }
   ],
   "source": [
    "df.head(2)"
   ]
  },
  {
   "cell_type": "code",
   "execution_count": 19,
   "id": "020c0db9",
   "metadata": {
    "execution": {
     "iopub.execute_input": "2023-05-02T16:13:21.753538Z",
     "iopub.status.busy": "2023-05-02T16:13:21.752920Z",
     "iopub.status.idle": "2023-05-02T16:13:21.760137Z",
     "shell.execute_reply": "2023-05-02T16:13:21.759108Z"
    },
    "papermill": {
     "duration": 0.019334,
     "end_time": "2023-05-02T16:13:21.762123",
     "exception": false,
     "start_time": "2023-05-02T16:13:21.742789",
     "status": "completed"
    },
    "tags": []
   },
   "outputs": [
    {
     "data": {
      "text/plain": [
       "Order Date       datetime64[ns]\n",
       "Ship Date        datetime64[ns]\n",
       "Ship Mode                object\n",
       "Customer ID              object\n",
       "Customer Name            object\n",
       "Segment                  object\n",
       "Country                  object\n",
       "City                     object\n",
       "State                    object\n",
       "Postal Code              object\n",
       "Region                   object\n",
       "Product ID               object\n",
       "Category                 object\n",
       "Sub-Category             object\n",
       "Product Name             object\n",
       "Sales                   float64\n",
       "Quantity                  int64\n",
       "Discount                float64\n",
       "Profit                  float64\n",
       "Revenue                 float64\n",
       "dtype: object"
      ]
     },
     "execution_count": 19,
     "metadata": {},
     "output_type": "execute_result"
    }
   ],
   "source": [
    "df.dtypes"
   ]
  },
  {
   "cell_type": "markdown",
   "id": "f139dde5",
   "metadata": {
    "papermill": {
     "duration": 0.008667,
     "end_time": "2023-05-02T16:13:21.780365",
     "exception": false,
     "start_time": "2023-05-02T16:13:21.771698",
     "status": "completed"
    },
    "tags": []
   },
   "source": [
    "# Which are the top 10 selling products?"
   ]
  },
  {
   "cell_type": "code",
   "execution_count": 20,
   "id": "b466d87b",
   "metadata": {
    "execution": {
     "iopub.execute_input": "2023-05-02T16:13:21.800242Z",
     "iopub.status.busy": "2023-05-02T16:13:21.799827Z",
     "iopub.status.idle": "2023-05-02T16:13:21.814738Z",
     "shell.execute_reply": "2023-05-02T16:13:21.813639Z"
    },
    "papermill": {
     "duration": 0.02721,
     "end_time": "2023-05-02T16:13:21.816885",
     "exception": false,
     "start_time": "2023-05-02T16:13:21.789675",
     "status": "completed"
    },
    "tags": []
   },
   "outputs": [
    {
     "data": {
      "text/html": [
       "<div>\n",
       "<style scoped>\n",
       "    .dataframe tbody tr th:only-of-type {\n",
       "        vertical-align: middle;\n",
       "    }\n",
       "\n",
       "    .dataframe tbody tr th {\n",
       "        vertical-align: top;\n",
       "    }\n",
       "\n",
       "    .dataframe thead th {\n",
       "        text-align: right;\n",
       "    }\n",
       "</style>\n",
       "<table border=\"1\" class=\"dataframe\">\n",
       "  <thead>\n",
       "    <tr style=\"text-align: right;\">\n",
       "      <th></th>\n",
       "      <th>Quantity</th>\n",
       "    </tr>\n",
       "    <tr>\n",
       "      <th>Product Name</th>\n",
       "      <th></th>\n",
       "    </tr>\n",
       "  </thead>\n",
       "  <tbody>\n",
       "    <tr>\n",
       "      <th>Staples</th>\n",
       "      <td>215</td>\n",
       "    </tr>\n",
       "    <tr>\n",
       "      <th>Staple envelope</th>\n",
       "      <td>170</td>\n",
       "    </tr>\n",
       "    <tr>\n",
       "      <th>Easy-staple paper</th>\n",
       "      <td>150</td>\n",
       "    </tr>\n",
       "    <tr>\n",
       "      <th>Staples in misc. colors</th>\n",
       "      <td>86</td>\n",
       "    </tr>\n",
       "    <tr>\n",
       "      <th>KI Adjustable-Height Table</th>\n",
       "      <td>74</td>\n",
       "    </tr>\n",
       "    <tr>\n",
       "      <th>Avery Non-Stick Binders</th>\n",
       "      <td>71</td>\n",
       "    </tr>\n",
       "    <tr>\n",
       "      <th>Storex Dura Pro Binders</th>\n",
       "      <td>71</td>\n",
       "    </tr>\n",
       "    <tr>\n",
       "      <th>GBC Premium Transparent Covers with Diagonal Lined Pattern</th>\n",
       "      <td>67</td>\n",
       "    </tr>\n",
       "    <tr>\n",
       "      <th>Situations Contoured Folding Chairs, 4/Set</th>\n",
       "      <td>64</td>\n",
       "    </tr>\n",
       "    <tr>\n",
       "      <th>Staple-based wall hangings</th>\n",
       "      <td>62</td>\n",
       "    </tr>\n",
       "  </tbody>\n",
       "</table>\n",
       "</div>"
      ],
      "text/plain": [
       "                                                    Quantity\n",
       "Product Name                                                \n",
       "Staples                                                  215\n",
       "Staple envelope                                          170\n",
       "Easy-staple paper                                        150\n",
       "Staples in misc. colors                                   86\n",
       "KI Adjustable-Height Table                                74\n",
       "Avery Non-Stick Binders                                   71\n",
       "Storex Dura Pro Binders                                   71\n",
       "GBC Premium Transparent Covers with Diagonal Li...        67\n",
       "Situations Contoured Folding Chairs, 4/Set                64\n",
       "Staple-based wall hangings                                62"
      ]
     },
     "execution_count": 20,
     "metadata": {},
     "output_type": "execute_result"
    }
   ],
   "source": [
    "sales=df.groupby(\"Product Name\").agg({\"Quantity\":\"sum\"}).sort_values(\"Quantity\",ascending=False)[:10]\n",
    "sales"
   ]
  },
  {
   "cell_type": "code",
   "execution_count": 21,
   "id": "7baeb61d",
   "metadata": {
    "execution": {
     "iopub.execute_input": "2023-05-02T16:13:21.836390Z",
     "iopub.status.busy": "2023-05-02T16:13:21.836047Z",
     "iopub.status.idle": "2023-05-02T16:13:22.220580Z",
     "shell.execute_reply": "2023-05-02T16:13:22.219488Z"
    },
    "papermill": {
     "duration": 0.397638,
     "end_time": "2023-05-02T16:13:22.223569",
     "exception": false,
     "start_time": "2023-05-02T16:13:21.825931",
     "status": "completed"
    },
    "tags": []
   },
   "outputs": [
    {
     "data": {
      "text/plain": [
       "(array([0, 1, 2, 3, 4, 5, 6, 7, 8, 9]),\n",
       " [Text(0, 0, 'Staples'),\n",
       "  Text(1, 0, 'Staple envelope'),\n",
       "  Text(2, 0, 'Easy-staple paper'),\n",
       "  Text(3, 0, 'Staples in misc. colors'),\n",
       "  Text(4, 0, 'KI Adjustable-Height Table'),\n",
       "  Text(5, 0, 'Avery Non-Stick Binders'),\n",
       "  Text(6, 0, 'Storex Dura Pro Binders'),\n",
       "  Text(7, 0, 'GBC Premium Transparent Covers with Diagonal Lined Pattern'),\n",
       "  Text(8, 0, 'Situations Contoured Folding Chairs, 4/Set'),\n",
       "  Text(9, 0, 'Staple-based wall hangings')])"
      ]
     },
     "execution_count": 21,
     "metadata": {},
     "output_type": "execute_result"
    },
    {
     "data": {
      "image/png": "[encoded data removed]",
      "text/plain": [
       "<Figure size 640x480 with 1 Axes>"
      ]
     },
     "metadata": {},
     "output_type": "display_data"
    }
   ],
   "source": [
    "ax=sns.barplot(x=\"Product Name\",y=\"Quantity\",data=sales.reset_index())\n",
    "\n",
    "for container in ax.containers:\n",
    "    ax.bar_label(container,color='black',size=10)\n",
    "plt.xticks(rotation=\"vertical\")"
   ]
  },
  {
   "cell_type": "markdown",
   "id": "889c12fe",
   "metadata": {
    "papermill": {
     "duration": 0.0098,
     "end_time": "2023-05-02T16:13:22.243538",
     "exception": false,
     "start_time": "2023-05-02T16:13:22.233738",
     "status": "completed"
    },
    "tags": []
   },
   "source": [
    "# **Which are the Top 10 products by sales?**"
   ]
  },
  {
   "cell_type": "code",
   "execution_count": 22,
   "id": "8033b190",
   "metadata": {
    "execution": {
     "iopub.execute_input": "2023-05-02T16:13:22.265364Z",
     "iopub.status.busy": "2023-05-02T16:13:22.264749Z",
     "iopub.status.idle": "2023-05-02T16:13:22.278603Z",
     "shell.execute_reply": "2023-05-02T16:13:22.277905Z"
    },
    "papermill": {
     "duration": 0.026957,
     "end_time": "2023-05-02T16:13:22.280454",
     "exception": false,
     "start_time": "2023-05-02T16:13:22.253497",
     "status": "completed"
    },
    "tags": []
   },
   "outputs": [
    {
     "data": {
      "text/html": [
       "<div>\n",
       "<style scoped>\n",
       "    .dataframe tbody tr th:only-of-type {\n",
       "        vertical-align: middle;\n",
       "    }\n",
       "\n",
       "    .dataframe tbody tr th {\n",
       "        vertical-align: top;\n",
       "    }\n",
       "\n",
       "    .dataframe thead th {\n",
       "        text-align: right;\n",
       "    }\n",
       "</style>\n",
       "<table border=\"1\" class=\"dataframe\">\n",
       "  <thead>\n",
       "    <tr style=\"text-align: right;\">\n",
       "      <th></th>\n",
       "      <th>Sales</th>\n",
       "    </tr>\n",
       "    <tr>\n",
       "      <th>Product Name</th>\n",
       "      <th></th>\n",
       "    </tr>\n",
       "  </thead>\n",
       "  <tbody>\n",
       "    <tr>\n",
       "      <th>Canon imageCLASS 2200 Advanced Copier</th>\n",
       "      <td>61599</td>\n",
       "    </tr>\n",
       "    <tr>\n",
       "      <th>Fellowes PB500 Electric Punch Plastic Comb Binding Machine with Manual Bind</th>\n",
       "      <td>27453</td>\n",
       "    </tr>\n",
       "    <tr>\n",
       "      <th>Cisco TelePresence System EX90 Videoconferencing Unit</th>\n",
       "      <td>22638</td>\n",
       "    </tr>\n",
       "    <tr>\n",
       "      <th>HON 5400 Series Task Chairs for Big and Tall</th>\n",
       "      <td>21870</td>\n",
       "    </tr>\n",
       "    <tr>\n",
       "      <th>GBC DocuBind TL300 Electric Binding System</th>\n",
       "      <td>19823</td>\n",
       "    </tr>\n",
       "    <tr>\n",
       "      <th>GBC Ibimaster 500 Manual ProClick Binding System</th>\n",
       "      <td>19024</td>\n",
       "    </tr>\n",
       "    <tr>\n",
       "      <th>Hewlett Packard LaserJet 3310 Copier</th>\n",
       "      <td>18839</td>\n",
       "    </tr>\n",
       "    <tr>\n",
       "      <th>HP Designjet T520 Inkjet Large Format Printer - 24\" Color</th>\n",
       "      <td>18374</td>\n",
       "    </tr>\n",
       "    <tr>\n",
       "      <th>GBC DocuBind P400 Electric Binding System</th>\n",
       "      <td>17965</td>\n",
       "    </tr>\n",
       "    <tr>\n",
       "      <th>High Speed Automatic Electric Letter Opener</th>\n",
       "      <td>17030</td>\n",
       "    </tr>\n",
       "  </tbody>\n",
       "</table>\n",
       "</div>"
      ],
      "text/plain": [
       "                                                    Sales\n",
       "Product Name                                             \n",
       "Canon imageCLASS 2200 Advanced Copier               61599\n",
       "Fellowes PB500 Electric Punch Plastic Comb Bind...  27453\n",
       "Cisco TelePresence System EX90 Videoconferencin...  22638\n",
       "HON 5400 Series Task Chairs for Big and Tall        21870\n",
       "GBC DocuBind TL300 Electric Binding System          19823\n",
       "GBC Ibimaster 500 Manual ProClick Binding System    19024\n",
       "Hewlett Packard LaserJet 3310 Copier                18839\n",
       "HP Designjet T520 Inkjet Large Format Printer -...  18374\n",
       "GBC DocuBind P400 Electric Binding System           17965\n",
       "High Speed Automatic Electric Letter Opener         17030"
      ]
     },
     "execution_count": 22,
     "metadata": {},
     "output_type": "execute_result"
    }
   ],
   "source": [
    "sale=df.groupby(\"Product Name\").agg({\"Sales\":\"sum\"}).sort_values(\"Sales\",ascending=False).astype(int)[:10]\n",
    "sale"
   ]
  },
  {
   "cell_type": "markdown",
   "id": "3abd2665",
   "metadata": {
    "papermill": {
     "duration": 0.009814,
     "end_time": "2023-05-02T16:13:22.300549",
     "exception": false,
     "start_time": "2023-05-02T16:13:22.290735",
     "status": "completed"
    },
    "tags": []
   },
   "source": []
  },
  {
   "cell_type": "code",
   "execution_count": 23,
   "id": "bf5b17a3",
   "metadata": {
    "execution": {
     "iopub.execute_input": "2023-05-02T16:13:22.323140Z",
     "iopub.status.busy": "2023-05-02T16:13:22.322478Z",
     "iopub.status.idle": "2023-05-02T16:13:22.723722Z",
     "shell.execute_reply": "2023-05-02T16:13:22.722615Z"
    },
    "papermill": {
     "duration": 0.415575,
     "end_time": "2023-05-02T16:13:22.726236",
     "exception": false,
     "start_time": "2023-05-02T16:13:22.310661",
     "status": "completed"
    },
    "tags": []
   },
   "outputs": [
    {
     "data": {
      "text/plain": [
       "(array([0, 1, 2, 3, 4, 5, 6, 7, 8, 9]),\n",
       " [Text(0, 0, 'Canon imageCLASS 2200 Advanced Copier'),\n",
       "  Text(1, 0, 'Fellowes PB500 Electric Punch Plastic Comb Binding Machine with Manual Bind'),\n",
       "  Text(2, 0, 'Cisco TelePresence System EX90 Videoconferencing Unit'),\n",
       "  Text(3, 0, 'HON 5400 Series Task Chairs for Big and Tall'),\n",
       "  Text(4, 0, 'GBC DocuBind TL300 Electric Binding System'),\n",
       "  Text(5, 0, 'GBC Ibimaster 500 Manual ProClick Binding System'),\n",
       "  Text(6, 0, 'Hewlett Packard LaserJet 3310 Copier'),\n",
       "  Text(7, 0, 'HP Designjet T520 Inkjet Large Format Printer - 24\" Color'),\n",
       "  Text(8, 0, 'GBC DocuBind P400 Electric Binding System'),\n",
       "  Text(9, 0, 'High Speed Automatic Electric Letter Opener')])"
      ]
     },
     "execution_count": 23,
     "metadata": {},
     "output_type": "execute_result"
    },
    {
     "data": {
      "image/png": "[encoded data removed]",
      "text/plain": [
       "<Figure size 640x480 with 1 Axes>"
      ]
     },
     "metadata": {},
     "output_type": "display_data"
    }
   ],
   "source": [
    "ax=sns.barplot(x=\"Product Name\",y=\"Sales\",data=sale.reset_index())\n",
    "\n",
    "for container in ax.containers:\n",
    "    ax.bar_label(container,color='black',size=7)\n",
    "plt.xticks(rotation=\"vertical\")"
   ]
  },
  {
   "cell_type": "code",
   "execution_count": null,
   "id": "3590fd95",
   "metadata": {
    "papermill": {
     "duration": 0.011729,
     "end_time": "2023-05-02T16:13:22.749875",
     "exception": false,
     "start_time": "2023-05-02T16:13:22.738146",
     "status": "completed"
    },
    "tags": []
   },
   "outputs": [],
   "source": []
  }
 ],
 "metadata": {
  "kernelspec": {
   "display_name": "Python 3",
   "language": "python",
   "name": "python3"
  },
  "language_info": {
   "codemirror_mode": {
    "name": "ipython",
    "version": 3
   },
   "file_extension": ".py",
   "mimetype": "text/x-python",
   "name": "python",
   "nbconvert_exporter": "python",
   "pygments_lexer": "ipython3",
   "version": "3.10.10"
  },
  "papermill": {
   "default_parameters": {},
   "duration": 13.576452,
   "end_time": "2023-05-02T16:13:23.683269",
   "environment_variables": {},
   "exception": null,
   "input_path": "__notebook__.ipynb",
   "output_path": "__notebook__.ipynb",
   "parameters": {},
   "start_time": "2023-05-02T16:13:10.106817",
   "version": "2.4.0"
  }
 },
 "nbformat": 4,
 "nbformat_minor": 5
}
